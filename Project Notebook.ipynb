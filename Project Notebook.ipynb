{
 "cells": [
  {
   "cell_type": "markdown",
   "metadata": {},
   "source": [
    "# AIRCRAFT  RISK FOR BUSINESS  ANALYSIS"
   ]
  },
  {
   "cell_type": "markdown",
   "metadata": {},
   "source": [
    "## 1. Project PLan\n",
    "- The project aims at determining which aircrafts are at lower risk for the company as it plans to expanding in to new commercial and private aviation enterprises.\n",
    "- The project provides actionable insights that the aviation division can consider while making desisions o the aircrafts to purchase"
   ]
  },
  {
   "cell_type": "markdown",
   "metadata": {},
   "source": [
    "## 2.Data Overview\n",
    "The Dataset used is AviationData.csv that is available in kaggle.\n",
    "It comprises a detailed and comprehensive report on aircraft accidents and accident-related information such as location\n",
    "of accident, date, the weather conditions and general statistics of fatalities from 1962 to 2023\n",
    "\n",
    "It contains 31 columns and 88,889 rows that facilitated indepth anaylsis such as:\n",
    "- Risk factors associated with different types of aircrafts.\n",
    "- The Operational conditions and how it affects aircrafts\n",
    "- The Broad Phase of the flight"
   ]
  },
  {
   "cell_type": "markdown",
   "metadata": {},
   "source": [
    "## 3.Business Problem\n",
    "\n",
    "Your company is expanding in to new industries to diversify its portfolio. Specifically, they are interested in purchasing and operating airplanes for commercial and private enterprises, but do not know anything about the potential risks of aircraft. You are charged with determining which aircraft are the lowest risk for the company to start this new business endeavor. You must then translate your findings into actionable insights that the head of the new aviation division can use to help decide which aircraft to purchase."
   ]
  },
  {
   "cell_type": "markdown",
   "metadata": {},
   "source": [
    "### 4.Data Understanding\n",
    "The Dataset contains 31 columns and 88,889 rows that provide information about the aircraft accidents.      \n",
    "This dataset includes some of the  details of the aircraft such as;\n",
    "- factors contributing to accidents for example weather\n",
    "- specifications of the aircrafts\n",
    "- Make and Model\n",
    "- accident histories and\n",
    "- phase of flight during the accident\n",
    "\n",
    "Therefore, our goal is to explore this data to identify patterns that indicate the safest aircraft for the company’s new aviation venture."
   ]
  },
  {
   "cell_type": "markdown",
   "metadata": {},
   "source": [
    "### 5.Project Objectives"
   ]
  },
  {
   "cell_type": "markdown",
   "metadata": {},
   "source": [
    "1. Access the risk factor in aviation operations\n",
    "\n",
    "Determine the factors that may lead to risks during operations such the weather conditions\n",
    "\n",
    "2. Identify low-risk Aircraft  Make and Model Type\n",
    "\n",
    "Understand which aircraft model and make have the lowest accidents and fatalities so as to get insights on which type of aircrafts to purchase\n",
    "Identify specifications of Aircraft and how they relate to accidents \n",
    " Determine if specifications of aircraft such as number of engines it contains and type of engine have impact on reducing accidents.\n",
    " \n",
    "3. Access which phase of flight is prone to to more accidents\n",
    "\n",
    "Determine at which broad phase flight do accidents occur more. For example, establish if landing or cruise or takeoff attract accidents\n",
    "\n",
    "4. Provide data driven Recommendations that will aid the aircraft purchase"
   ]
  },
  {
   "cell_type": "markdown",
   "metadata": {},
   "source": [
    "### 6.Step to Meet the objectives\n",
    "##### 1. Load the dataset\n",
    "- load the Aviationcsv dataset using the pandas library\n",
    "- check the first five rows and the total columns\n",
    "\n",
    "##### 2.Data Cleaning\n",
    "- Perform Data Cleaning and Preprocessing\n",
    "- Handle missing values, inconsistencies, and errors\n",
    "There are columns with highly missing values that exceed over 40% that can be dropped.\n",
    "Those with few missing values can be filled.\n",
    "The numerical columns can be filled with its mean and categorical columns with mode.\n",
    "\n",
    "##### 3.Explanatory Data Analysis with pandas(EDA)\n",
    "Though EDA, we will be able to assess the above mentioned objectives.\n",
    "We aim to extract meaningful insights that will inform the aviation division and subsequent risk assessments before purchasing aircrafts. We look into the following;\n",
    "1. Descriptive statistcs\n",
    "Get the overoll statistics for numerical variables so as to understand their distribution.\n",
    "2. Analyse and visualize data \n",
    "By the help Histograms and Boxplots we will Understand the distribution of numerical variables and how it affects accidents and\n",
    "Bar Charts to Compare accident occurrences across different aircraft manufacturers and models.\n"
   ]
  },
  {
   "cell_type": "markdown",
   "metadata": {},
   "source": [
    "## 6.1 Load the dataset"
   ]
  },
  {
   "cell_type": "code",
   "execution_count": 1,
   "metadata": {},
   "outputs": [
    {
     "name": "stderr",
     "output_type": "stream",
     "text": [
      "C:\\Users\\User\\anaconda3\\envs\\learn-env\\lib\\site-packages\\IPython\\core\\interactiveshell.py:3145: DtypeWarning: Columns (6,7,28) have mixed types.Specify dtype option on import or set low_memory=False.\n",
      "  has_raised = await self.run_ast_nodes(code_ast.body, cell_name,\n"
     ]
    },
    {
     "data": {
      "text/html": [
       "<div>\n",
       "<style scoped>\n",
       "    .dataframe tbody tr th:only-of-type {\n",
       "        vertical-align: middle;\n",
       "    }\n",
       "\n",
       "    .dataframe tbody tr th {\n",
       "        vertical-align: top;\n",
       "    }\n",
       "\n",
       "    .dataframe thead th {\n",
       "        text-align: right;\n",
       "    }\n",
       "</style>\n",
       "<table border=\"1\" class=\"dataframe\">\n",
       "  <thead>\n",
       "    <tr style=\"text-align: right;\">\n",
       "      <th></th>\n",
       "      <th>Event.Id</th>\n",
       "      <th>Investigation.Type</th>\n",
       "      <th>Accident.Number</th>\n",
       "      <th>Event.Date</th>\n",
       "      <th>Location</th>\n",
       "      <th>Country</th>\n",
       "      <th>Latitude</th>\n",
       "      <th>Longitude</th>\n",
       "      <th>Airport.Code</th>\n",
       "      <th>Airport.Name</th>\n",
       "      <th>...</th>\n",
       "      <th>Purpose.of.flight</th>\n",
       "      <th>Air.carrier</th>\n",
       "      <th>Total.Fatal.Injuries</th>\n",
       "      <th>Total.Serious.Injuries</th>\n",
       "      <th>Total.Minor.Injuries</th>\n",
       "      <th>Total.Uninjured</th>\n",
       "      <th>Weather.Condition</th>\n",
       "      <th>Broad.phase.of.flight</th>\n",
       "      <th>Report.Status</th>\n",
       "      <th>Publication.Date</th>\n",
       "    </tr>\n",
       "  </thead>\n",
       "  <tbody>\n",
       "    <tr>\n",
       "      <th>88884</th>\n",
       "      <td>20221227106491</td>\n",
       "      <td>Accident</td>\n",
       "      <td>ERA23LA093</td>\n",
       "      <td>2022-12-26</td>\n",
       "      <td>Annapolis, MD</td>\n",
       "      <td>United States</td>\n",
       "      <td>NaN</td>\n",
       "      <td>NaN</td>\n",
       "      <td>NaN</td>\n",
       "      <td>NaN</td>\n",
       "      <td>...</td>\n",
       "      <td>Personal</td>\n",
       "      <td>NaN</td>\n",
       "      <td>0.0</td>\n",
       "      <td>1.0</td>\n",
       "      <td>0.0</td>\n",
       "      <td>0.0</td>\n",
       "      <td>NaN</td>\n",
       "      <td>NaN</td>\n",
       "      <td>NaN</td>\n",
       "      <td>29-12-2022</td>\n",
       "    </tr>\n",
       "    <tr>\n",
       "      <th>88885</th>\n",
       "      <td>20221227106494</td>\n",
       "      <td>Accident</td>\n",
       "      <td>ERA23LA095</td>\n",
       "      <td>2022-12-26</td>\n",
       "      <td>Hampton, NH</td>\n",
       "      <td>United States</td>\n",
       "      <td>NaN</td>\n",
       "      <td>NaN</td>\n",
       "      <td>NaN</td>\n",
       "      <td>NaN</td>\n",
       "      <td>...</td>\n",
       "      <td>NaN</td>\n",
       "      <td>NaN</td>\n",
       "      <td>0.0</td>\n",
       "      <td>0.0</td>\n",
       "      <td>0.0</td>\n",
       "      <td>0.0</td>\n",
       "      <td>NaN</td>\n",
       "      <td>NaN</td>\n",
       "      <td>NaN</td>\n",
       "      <td>NaN</td>\n",
       "    </tr>\n",
       "    <tr>\n",
       "      <th>88886</th>\n",
       "      <td>20221227106497</td>\n",
       "      <td>Accident</td>\n",
       "      <td>WPR23LA075</td>\n",
       "      <td>2022-12-26</td>\n",
       "      <td>Payson, AZ</td>\n",
       "      <td>United States</td>\n",
       "      <td>341525N</td>\n",
       "      <td>1112021W</td>\n",
       "      <td>PAN</td>\n",
       "      <td>PAYSON</td>\n",
       "      <td>...</td>\n",
       "      <td>Personal</td>\n",
       "      <td>NaN</td>\n",
       "      <td>0.0</td>\n",
       "      <td>0.0</td>\n",
       "      <td>0.0</td>\n",
       "      <td>1.0</td>\n",
       "      <td>VMC</td>\n",
       "      <td>NaN</td>\n",
       "      <td>NaN</td>\n",
       "      <td>27-12-2022</td>\n",
       "    </tr>\n",
       "    <tr>\n",
       "      <th>88887</th>\n",
       "      <td>20221227106498</td>\n",
       "      <td>Accident</td>\n",
       "      <td>WPR23LA076</td>\n",
       "      <td>2022-12-26</td>\n",
       "      <td>Morgan, UT</td>\n",
       "      <td>United States</td>\n",
       "      <td>NaN</td>\n",
       "      <td>NaN</td>\n",
       "      <td>NaN</td>\n",
       "      <td>NaN</td>\n",
       "      <td>...</td>\n",
       "      <td>Personal</td>\n",
       "      <td>MC CESSNA 210N LLC</td>\n",
       "      <td>0.0</td>\n",
       "      <td>0.0</td>\n",
       "      <td>0.0</td>\n",
       "      <td>0.0</td>\n",
       "      <td>NaN</td>\n",
       "      <td>NaN</td>\n",
       "      <td>NaN</td>\n",
       "      <td>NaN</td>\n",
       "    </tr>\n",
       "    <tr>\n",
       "      <th>88888</th>\n",
       "      <td>20221230106513</td>\n",
       "      <td>Accident</td>\n",
       "      <td>ERA23LA097</td>\n",
       "      <td>2022-12-29</td>\n",
       "      <td>Athens, GA</td>\n",
       "      <td>United States</td>\n",
       "      <td>NaN</td>\n",
       "      <td>NaN</td>\n",
       "      <td>NaN</td>\n",
       "      <td>NaN</td>\n",
       "      <td>...</td>\n",
       "      <td>Personal</td>\n",
       "      <td>NaN</td>\n",
       "      <td>0.0</td>\n",
       "      <td>1.0</td>\n",
       "      <td>0.0</td>\n",
       "      <td>1.0</td>\n",
       "      <td>NaN</td>\n",
       "      <td>NaN</td>\n",
       "      <td>NaN</td>\n",
       "      <td>30-12-2022</td>\n",
       "    </tr>\n",
       "  </tbody>\n",
       "</table>\n",
       "<p>5 rows × 31 columns</p>\n",
       "</div>"
      ],
      "text/plain": [
       "             Event.Id Investigation.Type Accident.Number  Event.Date  \\\n",
       "88884  20221227106491           Accident      ERA23LA093  2022-12-26   \n",
       "88885  20221227106494           Accident      ERA23LA095  2022-12-26   \n",
       "88886  20221227106497           Accident      WPR23LA075  2022-12-26   \n",
       "88887  20221227106498           Accident      WPR23LA076  2022-12-26   \n",
       "88888  20221230106513           Accident      ERA23LA097  2022-12-29   \n",
       "\n",
       "            Location        Country Latitude Longitude Airport.Code  \\\n",
       "88884  Annapolis, MD  United States      NaN       NaN          NaN   \n",
       "88885    Hampton, NH  United States      NaN       NaN          NaN   \n",
       "88886     Payson, AZ  United States  341525N  1112021W          PAN   \n",
       "88887     Morgan, UT  United States      NaN       NaN          NaN   \n",
       "88888     Athens, GA  United States      NaN       NaN          NaN   \n",
       "\n",
       "      Airport.Name  ... Purpose.of.flight         Air.carrier  \\\n",
       "88884          NaN  ...          Personal                 NaN   \n",
       "88885          NaN  ...               NaN                 NaN   \n",
       "88886       PAYSON  ...          Personal                 NaN   \n",
       "88887          NaN  ...          Personal  MC CESSNA 210N LLC   \n",
       "88888          NaN  ...          Personal                 NaN   \n",
       "\n",
       "      Total.Fatal.Injuries Total.Serious.Injuries Total.Minor.Injuries  \\\n",
       "88884                  0.0                    1.0                  0.0   \n",
       "88885                  0.0                    0.0                  0.0   \n",
       "88886                  0.0                    0.0                  0.0   \n",
       "88887                  0.0                    0.0                  0.0   \n",
       "88888                  0.0                    1.0                  0.0   \n",
       "\n",
       "      Total.Uninjured Weather.Condition  Broad.phase.of.flight Report.Status  \\\n",
       "88884             0.0               NaN                    NaN           NaN   \n",
       "88885             0.0               NaN                    NaN           NaN   \n",
       "88886             1.0               VMC                    NaN           NaN   \n",
       "88887             0.0               NaN                    NaN           NaN   \n",
       "88888             1.0               NaN                    NaN           NaN   \n",
       "\n",
       "      Publication.Date  \n",
       "88884       29-12-2022  \n",
       "88885              NaN  \n",
       "88886       27-12-2022  \n",
       "88887              NaN  \n",
       "88888       30-12-2022  \n",
       "\n",
       "[5 rows x 31 columns]"
      ]
     },
     "execution_count": 1,
     "metadata": {},
     "output_type": "execute_result"
    }
   ],
   "source": [
    "# Import the python library pandas as pd\n",
    "import pandas as pd\n",
    "# Read the AviationData using pandas\n",
    "df = pd.read_csv(\"AviationData.csv\", encoding=\"latin1\")\n",
    "#Display the last 5 rows of the data.\n",
    "df.tail()"
   ]
  },
  {
   "cell_type": "markdown",
   "metadata": {},
   "source": [
    "## 6.2 Data Cleaning\n",
    "**6.2.1 Visualize to check Occurence of Null Values**\n",
    "Null values are represented by occurence of white color in the heatmap"
   ]
  },
  {
   "cell_type": "code",
   "execution_count": 4,
   "metadata": {},
   "outputs": [
    {
     "data": {
      "text/plain": [
       "<AxesSubplot:>"
      ]
     },
     "execution_count": 4,
     "metadata": {},
     "output_type": "execute_result"
    },
    {
     "data": {
      "image/png": "[encoded data removed]",
      "text/plain": [
       "<Figure size 432x288 with 2 Axes>"
      ]
     },
     "metadata": {
      "needs_background": "light"
     },
     "output_type": "display_data"
    }
   ],
   "source": [
    "# Import Matplotlib and Seaborn Libraries\n",
    "import matplotlib.pyplot as plt\n",
    "import seaborn as sns\n",
    "#PLot HeatMap using Seaborn\n",
    "sns.heatmap(df.isna())"
   ]
  },
  {
   "cell_type": "markdown",
   "metadata": {},
   "source": [
    "**6.2.2  Check the Percentages of Missing Values**"
   ]
  },
  {
   "cell_type": "code",
   "execution_count": 3,
   "metadata": {},
   "outputs": [
    {
     "name": "stdout",
     "output_type": "stream",
     "text": [
      "Schedule                  85.845268\n",
      "Air.carrier               81.271023\n",
      "FAR.Description           63.974170\n",
      "Aircraft.Category         63.677170\n",
      "Longitude                 61.330423\n",
      "Latitude                  61.320298\n",
      "Airport.Code              43.469946\n",
      "Airport.Name              40.611324\n",
      "Broad.phase.of.flight     30.560587\n",
      "Publication.Date          15.492356\n",
      "Total.Serious.Injuries    14.073732\n",
      "Total.Minor.Injuries      13.424608\n",
      "Total.Fatal.Injuries      12.826109\n",
      "Engine.Type                7.961615\n",
      "Report.Status              7.178616\n",
      "Purpose.of.flight          6.965991\n",
      "Number.of.Engines          6.844491\n",
      "Total.Uninjured            6.650992\n",
      "Weather.Condition          5.053494\n",
      "Aircraft.damage            3.593246\n",
      "Registration.Number        1.481623\n",
      "Injury.Severity            1.124999\n",
      "Country                    0.254250\n",
      "Amateur.Built              0.114750\n",
      "Model                      0.103500\n",
      "Make                       0.070875\n",
      "Location                   0.058500\n",
      "Event.Date                 0.000000\n",
      "Accident.Number            0.000000\n",
      "Investigation.Type         0.000000\n",
      "Event.Id                   0.000000\n",
      "dtype: float64\n"
     ]
    }
   ],
   "source": [
    "# Check the null values through isnull method aaaaaand get the percentage\n",
    "missing_percent = df.isnull().sum() / len(df) * 100\n",
    "print(missing_percent.sort_values(ascending=False))\n"
   ]
  },
  {
   "cell_type": "markdown",
   "metadata": {},
   "source": [
    "**6.2.3 Drop Columns with missing values that exceed 40%**"
   ]
  },
  {
   "cell_type": "code",
   "execution_count": 4,
   "metadata": {},
   "outputs": [],
   "source": [
    "#Drop Columns with over 40% MIssing Values\n",
    "df=df.drop(['Event.Date','Report.Status','Event.Id','Location','Publication.Date','Registration.Number','Air.carrier','Schedule','Longitude','Aircraft.Category','FAR.Description','Latitude','Airport.Code','Airport.Name'],axis=1)"
   ]
  },
  {
   "cell_type": "code",
   "execution_count": 5,
   "metadata": {},
   "outputs": [],
   "source": [
    "#Aircraft.damage column has some unknown vaues, replace with numpy's Nan\n",
    "# First Import numpy library as np\n",
    "import numpy as np\n",
    "df['Aircraft.damage'].replace('Unknown',np.nan,inplace=True)\n",
    "\n",
    "# Clean the Broad.phase.of.flight column to drop 'Unknown' and 'Other' values\n",
    "df['Broad.phase.of.flight'].replace('Unknown',np.nan,inplace=True)\n",
    "df['Broad.phase.of.flight'].replace('Other',np.nan,inplace=True)\n",
    "\n",
    "# Clean the Weather Condition column by replacing Unk and nan with UKN so as to have uniformity\n",
    "df['Weather.Condition'].replace('Unk','UNK',inplace=True)\n",
    "df['Weather.Condition'].replace(np.nan,'UNK',inplace=True)\n",
    "\n",
    "# Fill the null values of NUmber of Engine column with its median value\n",
    "df['Number.of.Engines'].fillna(df['Number.of.Engines'].median(),inplace=True)\n",
    "\n",
    "# Convert 'Total.Fatal.Injuries' to numeric, handling errors\n",
    "df['Total.Fatal.Injuries'] = pd.to_numeric(df['Total.Fatal.Injuries'], errors='coerce')\n",
    "\n",
    "# Fill null values in 'Mode' column with its mode\n",
    "df['Model'].fillna(df['Model'].mode()[0],inplace=True)\n",
    "\n",
    "# Make all values in \"Make\" column start with a capital letter so as to avoid duplicates such as 'CESSNA' and 'Cessna'\n",
    "df['Make']=df['Make'].str.title()\n",
    "# Fill null values in 'Make' column with its mode\n",
    "df['Make'].fillna(df['Make'].mode()[0],inplace=True)\n",
    "\n"
   ]
  },
  {
   "cell_type": "markdown",
   "metadata": {},
   "source": [
    "## 6.3 Explanatory Data Analysis with pandas(EDA)\n",
    "Now that we have cleaned our data, let's dive deep to the insights through analyzing and visualizing different aspects that will guide us on the findings Let's begin by finding which broad phase of flight had more accidents.\n",
    "\n",
    "**6.3.1 Visualize the accident occurence caused by 'Broad.phase.of.flight'**"
   ]
  },
  {
   "cell_type": "code",
   "execution_count": 6,
   "metadata": {},
   "outputs": [
    {
     "data": {
      "text/plain": [
       "array(['Cruise', nan, 'Approach', 'Climb', 'Takeoff', 'Landing', 'Taxi',\n",
       "       'Descent', 'Maneuvering', 'Standing', 'Go-around'], dtype=object)"
      ]
     },
     "execution_count": 6,
     "metadata": {},
     "output_type": "execute_result"
    }
   ],
   "source": [
    " # Check what the column comprises\n",
    "df['Broad.phase.of.flight'].unique()"
   ]
  },
  {
   "cell_type": "code",
   "execution_count": 7,
   "metadata": {},
   "outputs": [
    {
     "data": {
      "text/plain": [
       "Landing        15428\n",
       "Takeoff        12493\n",
       "Cruise         10269\n",
       "Maneuvering     8144\n",
       "Approach        6546\n",
       "Climb           2034\n",
       "Taxi            1958\n",
       "Descent         1887\n",
       "Go-around       1353\n",
       "Standing         945\n",
       "Name: Broad.phase.of.flight, dtype: int64"
      ]
     },
     "execution_count": 7,
     "metadata": {},
     "output_type": "execute_result"
    }
   ],
   "source": [
    "# Check accident values in each phase of flight\n",
    "df['Broad.phase.of.flight'].value_counts()"
   ]
  },
  {
   "cell_type": "code",
   "execution_count": 8,
   "metadata": {},
   "outputs": [
    {
     "data": {
      "image/png": "[encoded data removed]",
      "text/plain": [
       "<Figure size 720x432 with 1 Axes>"
      ]
     },
     "metadata": {
      "needs_background": "light"
     },
     "output_type": "display_data"
    }
   ],
   "source": [
    "import matplotlib.pyplot as plt\n",
    "#Plot a histogram that explains the distribution\n",
    "plt.figure(figsize=(10, 6))\n",
    "df['Broad.phase.of.flight'].value_counts().plot(\n",
    "    kind='bar', \n",
    "    color='blue', \n",
    "    edgecolor='black' \n",
    ")\n",
    "\n",
    "# Add title and labels\n",
    "plt.title('Distribution of Broad Phase of Flight')\n",
    "plt.xlabel('Flight Phase')\n",
    "plt.ylabel('Count')\n",
    "\n",
    "\n",
    "plt.show();\n"
   ]
  },
  {
   "cell_type": "markdown",
   "metadata": {},
   "source": [
    "**Findings**\n",
    "\n",
    "- During Landing, Takeoff, Cruise, Maneuverings and Approach  have a significantly higher number of recorded accidents.\n",
    "\n",
    "These flight's phase are critical moments in flight since the aircraft are operating close to the ground.    \n",
    "Landing is the Most Accident-Prone Phases                   \n",
    "The Approach phase, where aircraft align with the runway and descend for landing, also shows a high number of incidents.         \n",
    "Takeoff and Initial Climb Are Risky\n",
    "\n",
    "- Few accidents are witnessed in Taxing level ,Descent,Go round and Standing\n",
    "\n",
    "In these phases,pilots have a larger margin to rectify errors hence less prone to accident"
   ]
  },
  {
   "cell_type": "markdown",
   "metadata": {},
   "source": [
    "**6.3.2  Analyze  'Make' and 'Total.Fatal.Injuries' to understand how make affected fatalities during accidents**"
   ]
  },
  {
   "cell_type": "code",
   "execution_count": 9,
   "metadata": {},
   "outputs": [
    {
     "data": {
      "text/html": [
       "<div>\n",
       "<style scoped>\n",
       "    .dataframe tbody tr th:only-of-type {\n",
       "        vertical-align: middle;\n",
       "    }\n",
       "\n",
       "    .dataframe tbody tr th {\n",
       "        vertical-align: top;\n",
       "    }\n",
       "\n",
       "    .dataframe thead th {\n",
       "        text-align: right;\n",
       "    }\n",
       "</style>\n",
       "<table border=\"1\" class=\"dataframe\">\n",
       "  <thead>\n",
       "    <tr style=\"text-align: right;\">\n",
       "      <th></th>\n",
       "      <th>Make</th>\n",
       "      <th>Total.Fatal.Injuries</th>\n",
       "    </tr>\n",
       "  </thead>\n",
       "  <tbody>\n",
       "    <tr>\n",
       "      <th>1259</th>\n",
       "      <td>Cessna</td>\n",
       "      <td>9700.0</td>\n",
       "    </tr>\n",
       "    <tr>\n",
       "      <th>827</th>\n",
       "      <td>Boeing</td>\n",
       "      <td>8748.0</td>\n",
       "    </tr>\n",
       "    <tr>\n",
       "      <th>5276</th>\n",
       "      <td>Piper</td>\n",
       "      <td>6689.0</td>\n",
       "    </tr>\n",
       "    <tr>\n",
       "      <th>638</th>\n",
       "      <td>Beech</td>\n",
       "      <td>3784.0</td>\n",
       "    </tr>\n",
       "    <tr>\n",
       "      <th>658</th>\n",
       "      <td>Bell</td>\n",
       "      <td>1332.0</td>\n",
       "    </tr>\n",
       "    <tr>\n",
       "      <th>175</th>\n",
       "      <td>Airbus</td>\n",
       "      <td>1325.0</td>\n",
       "    </tr>\n",
       "    <tr>\n",
       "      <th>4489</th>\n",
       "      <td>Mcdonnell Douglas</td>\n",
       "      <td>1286.0</td>\n",
       "    </tr>\n",
       "    <tr>\n",
       "      <th>181</th>\n",
       "      <td>Airbus Industrie</td>\n",
       "      <td>1174.0</td>\n",
       "    </tr>\n",
       "    <tr>\n",
       "      <th>1959</th>\n",
       "      <td>Douglas</td>\n",
       "      <td>984.0</td>\n",
       "    </tr>\n",
       "    <tr>\n",
       "      <th>4753</th>\n",
       "      <td>Mooney</td>\n",
       "      <td>685.0</td>\n",
       "    </tr>\n",
       "  </tbody>\n",
       "</table>\n",
       "</div>"
      ],
      "text/plain": [
       "                   Make  Total.Fatal.Injuries\n",
       "1259             Cessna                9700.0\n",
       "827              Boeing                8748.0\n",
       "5276              Piper                6689.0\n",
       "638               Beech                3784.0\n",
       "658                Bell                1332.0\n",
       "175              Airbus                1325.0\n",
       "4489  Mcdonnell Douglas                1286.0\n",
       "181    Airbus Industrie                1174.0\n",
       "1959            Douglas                 984.0\n",
       "4753             Mooney                 685.0"
      ]
     },
     "execution_count": 9,
     "metadata": {},
     "output_type": "execute_result"
    }
   ],
   "source": [
    "# Group by 'Make' and sum fatal injuries\n",
    "Make_fatal_injuries = df.groupby('Make')['Total.Fatal.Injuries'].sum().reset_index()\n",
    "\n",
    "# Sort by fatalities in descending order\n",
    "Make_fatal_injuries = Make_fatal_injuries.sort_values(by='Total.Fatal.Injuries', ascending=False)\n",
    "\n",
    "# Display top 10 aircraft makes with highest fatal injuries\n",
    "Make_fatal_injuries.head(10)"
   ]
  },
  {
   "cell_type": "markdown",
   "metadata": {},
   "source": [
    "**Visualize 'Make' and 'Total.Fatal.Injuries'**"
   ]
  },
  {
   "cell_type": "code",
   "execution_count": 10,
   "metadata": {},
   "outputs": [
    {
     "data": {
      "image/png": "[encoded data removed]",
      "text/plain": [
       "<Figure size 864x432 with 1 Axes>"
      ]
     },
     "metadata": {
      "needs_background": "light"
     },
     "output_type": "display_data"
    }
   ],
   "source": [
    "import matplotlib.pyplot as plt\n",
    "import seaborn as sns\n",
    "\n",
    "# Select top 10 aircraft makes with the highest fatal injuries\n",
    "Make_fatal_injuries = Make_fatal_injuries.head(10)\n",
    "\n",
    "# Plot bar chart\n",
    "plt.figure(figsize=(12, 6))\n",
    "sns.barplot(\n",
    "    x=Make_fatal_injuries['Total.Fatal.Injuries'], \n",
    "    y=Make_fatal_injuries['Make'], \n",
    "    palette='Reds_r'\n",
    ")\n",
    "\n",
    "# Add labels and title\n",
    "plt.xlabel('Total Fatal Injuries', fontsize=12)\n",
    "plt.ylabel('Aircraft Make', fontsize=12)\n",
    "plt.title('Top 10 Aircraft Makes with the Highest Fatal Injuries', fontsize=14)\n",
    "\n",
    "# Show the plot\n",
    "plt.show()\n"
   ]
  },
  {
   "cell_type": "markdown",
   "metadata": {},
   "source": [
    "**FIndings;**\n",
    "\n",
    "- Cessna, Boeing, Piper and Beech Aircraft Make Have Significantly More Fatalities\n",
    "\n",
    "This could indicate higher accidents hence aircraft models within that make are riskier.                            \n",
    "However, this could be because they are among the most common in aviation, so their numbers might be high because they are widely used, not necessarily because they are unsafe.\n",
    "\n",
    "- Commercial airliners Airbus and Mcdonnell Douglas generally have low fatality-per-accident.  \n",
    "\n",
    "They are Modern commercial Aircraft that are built with multiple layers of safety.\n",
    "Airbus and McDonnell Douglas planes have redundant flight control systems, multiple engines, and advanced autopilot functions to prevent catastrophic failures.\n",
    "\n",
    "- Mooney and Douglas Aircraft have low fatalities    \n",
    "\n",
    "These might be because of their small capacity.          \n",
    "A fatal crash involving a small aircraft will result in fewer total fatalities compared to a commercial Aircraft such as Airbus. \n",
    "Therefore, they could be used for private purposes in the business since they have a lower fatality rate."
   ]
  },
  {
   "cell_type": "markdown",
   "metadata": {},
   "source": [
    "**6.3.3  Grouping by Number.of.Engines and Model, summing Total.Fatal.Injuries**                                               \n",
    "Examine if number of engines and Model of the aircraft affected the number of Fatal Injuries"
   ]
  },
  {
   "cell_type": "code",
   "execution_count": 11,
   "metadata": {},
   "outputs": [
    {
     "data": {
      "image/png": "[encoded data removed]",
      "text/plain": [
       "<Figure size 864x432 with 1 Axes>"
      ]
     },
     "metadata": {
      "needs_background": "light"
     },
     "output_type": "display_data"
    }
   ],
   "source": [
    "# Grouping by Number.of.Engines and Model, summing Total.Fatal.Injuries\n",
    "grouped_data = df.groupby([\"Number.of.Engines\", \"Model\"])[\"Total.Fatal.Injuries\"].sum().reset_index()\n",
    "\n",
    "# Selecting the top 15 models with the highest total fatal injuries\n",
    "top_models = grouped_data.sort_values(\"Total.Fatal.Injuries\", ascending=False).head(15)\n",
    "\n",
    "# Creating the bar chart\n",
    "plt.figure(figsize=(12, 6))\n",
    "plt.barh(\n",
    "    top_models.apply(lambda row: f\"{int(row['Number.of.Engines'])} Engines - {row['Model']}\", axis=1),\n",
    "    top_models[\"Total.Fatal.Injuries\"],\n",
    "    color=\"red\",\n",
    ")\n",
    "plt.xlabel(\"Total Fatal Injuries\")\n",
    "plt.ylabel(\"Aircraft Model (Number of Engines)\")\n",
    "plt.title(\"Top 15 Aircraft Models by Total Fatal Injuries\")\n",
    "plt.gca().invert_yaxis()  # Invert y-axis to have highest values on top\n",
    "\n",
    "plt.show()"
   ]
  },
  {
   "cell_type": "markdown",
   "metadata": {},
   "source": [
    "#### Findings\n",
    "\n",
    "\n",
    "- From the Graph, Boeing 737-222 model has one of the highest recorded fatal injuries\n",
    "\n",
    "This suggests that larger commercial or transport aircraft, which often carry more passengers, tend to have higher fatality numbers when accidents occur.\n",
    "\n",
    "- Some models have hundreds of fatalities, while others have only a few despite having one engine.\n",
    "\n",
    "For Example Airbus 320 and R44 have significantly lower fatal injuries but also have one engine\n",
    "This means that Model of Aircraft play a big role in determining total fatalities."
   ]
  },
  {
   "cell_type": "markdown",
   "metadata": {},
   "source": [
    "**6.3.4 Examine Number of accidents for different Engine Type**"
   ]
  },
  {
   "cell_type": "code",
   "execution_count": 12,
   "metadata": {},
   "outputs": [
    {
     "data": {
      "image/png": "[encoded data removed]",
      "text/plain": [
       "<Figure size 720x360 with 1 Axes>"
      ]
     },
     "metadata": {
      "needs_background": "light"
     },
     "output_type": "display_data"
    }
   ],
   "source": [
    "#REPLACE NONE and None with numpys nan\n",
    "import numpy as np\n",
    "df['Engine.Type']= df['Engine.Type'].replace('None',np.nan)\n",
    "df['Engine.Type']= df['Engine.Type'].replace('NONE',np.nan)\n",
    "# Count the number of accidents for different Engine Type\n",
    "\n",
    "Engine_type = df['Engine.Type'].value_counts().head(10)\n",
    "# Plot bar chart\n",
    "plt.figure(figsize=(10, 5))\n",
    "sns.barplot(x=Engine_type.values, y=Engine_type.index, palette=\"viridis\")\n",
    "plt.xlabel(\"Number of Accidents\")\n",
    "plt.ylabel(\"Engine Type\")\n",
    "plt.title(\"Top 10 Engine Type with the Most Accidents\")\n",
    "plt.show()\n"
   ]
  },
  {
   "cell_type": "markdown",
   "metadata": {},
   "source": [
    "###### Finding Show Reciprocating Engines record a high number of accidents\n",
    "\n",
    "- Possible reasons for high number of accidents\n",
    "\n",
    "Reciprocating engines are more commonly used in many general aviation aircraft.\n",
    "However they can be used less safe aircraft with fewer modern safety features hence haaving more accidents\n",
    "\n",
    "- Turbo Jet and Geared Turbofan record a lower number of accidents\n",
    "\n",
    "The above aircrafts can be used for private enterprises due to its luxury and small capacity since they have low number of accidents recorded"
   ]
  },
  {
   "cell_type": "markdown",
   "metadata": {},
   "source": [
    "## Recommendations\n",
    "**1. Focus on modern, well-equipped aircraft with proven safety records for example Airbus A320 series.**      \n",
    "\n",
    "The Aircraft has lower fatalities, modern and advanced autopilot functions to prevent catastrophic failures.            \n",
    "If targeting private aviation, choose safe, well-maintained models with advanced safety features for example Turbo Jet and Geared Turbofan.                                               \n",
    "Avoid large commercial aircraft with high fatality rates such Boeing 747-168 and Tupolev TU-154\n",
    " \n",
    "**2. Risk Mitigation Strategies should focus on landing and takeoff safety**     \n",
    "\n",
    "Pilot training programs should focus on  Landing, Takeoff, Cruise, Maneuverings and Approach since it was examined that they record higher number of accidents and high fatal injuries.\n",
    "\n",
    "The company should also use predictive maintenance and real-time flight monitoring to prevent mechanical failures.       \n",
    "Aircraft that perform well in Instrument Meteorological Conditions (IMC) should be prioritized.            \n",
    "Ensure new aircraft have strong de-icing, turbulence handling, and navigation systems.              \n",
    "\n",
    "Invest in aircraft with advanced autopilot and landing assistance systems.\n",
    "\n",
    "**3.  Evaluate the Manufacturer’s Safety Track Record**\n",
    "\n",
    "Consider the Make of the aircraft since it plays a big role in saftey measures.\n",
    "For Example Airbus 320 and Mcdonnell Douglas are highly recommended.\n",
    "Commercial above commercial airliners  generally have low fatality-per-accident."
   ]
  }
 ],
 "metadata": {
  "kernelspec": {
   "display_name": "Python 3",
   "language": "python",
   "name": "python3"
  },
  "language_info": {
   "codemirror_mode": {
    "name": "ipython",
    "version": 3
   },
   "file_extension": ".py",
   "mimetype": "text/x-python",
   "name": "python",
   "nbconvert_exporter": "python",
   "pygments_lexer": "ipython3",
   "version": "3.8.5"
  }
 },
 "nbformat": 4,
 "nbformat_minor": 4
}
